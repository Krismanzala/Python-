{
  "nbformat": 4,
  "nbformat_minor": 0,
  "metadata": {
    "colab": {
      "provenance": [],
      "authorship_tag": "ABX9TyMrdnvmMTJX3HKg4K9mOWAC",
      "include_colab_link": true
    },
    "kernelspec": {
      "name": "python3",
      "display_name": "Python 3"
    },
    "language_info": {
      "name": "python"
    }
  },
  "cells": [
    {
      "cell_type": "markdown",
      "metadata": {
        "id": "view-in-github",
        "colab_type": "text"
      },
      "source": [
        "<a href=\"https://colab.research.google.com/github/Krismanzala/rproject/blob/master/essai.ipynb\" target=\"_parent\"><img src=\"https://colab.research.google.com/assets/colab-badge.svg\" alt=\"Open In Colab\"/></a>"
      ]
    },
    {
      "cell_type": "markdown",
      "source": [
        " *My first Code as* **Google developer**"
      ],
      "metadata": {
        "id": "ZD1LY-lcmc6o"
      }
    },
    {
      "cell_type": "code",
      "execution_count": 2,
      "metadata": {
        "colab": {
          "base_uri": "https://localhost:8080/"
        },
        "id": "nihZqSg1g3Ev",
        "outputId": "af2b7594-3217-42d9-e770-dd227ce93dd0"
      },
      "outputs": [
        {
          "output_type": "stream",
          "name": "stdout",
          "text": [
            "mon identité est MANZALA CHRISTIAN\n"
          ]
        }
      ],
      "source": [
        "def cat(nom, prenom):\n",
        "  id = nom + \" \" + prenom\n",
        "  return f\"mon identité est {id.upper()}\"\n",
        "print(cat('manzala', 'christian'))"
      ]
    }
  ]
}